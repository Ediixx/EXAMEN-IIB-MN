{
 "cells": [
  {
   "cell_type": "markdown",
   "metadata": {},
   "source": [
    "##### Ejercicio 2"
   ]
  },
  {
   "cell_type": "code",
   "execution_count": 39,
   "metadata": {},
   "outputs": [
    {
     "name": "stdout",
     "output_type": "stream",
     "text": [
      "Las raíces del método de Newton son:\n",
      "El valor de x1 es: 0.999998\n",
      "El valor de x2 es: 1.000000\n",
      "El valor de x3 es: 1.000006\n",
      "El valor de x4 es: 1.000003\n",
      "El valor de x5 es: -2.000000\n",
      "El valor de x6 es: 5.000000\n"
     ]
    }
   ],
   "source": [
    "import numpy as np\n",
    "from scipy.optimize import newton\n",
    "\n",
    "# Definimos el polinomio y su derivada manualmente\n",
    "def polinomio(x):\n",
    "    return x**5 - 6*x**4 + 2*x**3 + 20*x**2 - 27*x + 10\n",
    "\n",
    "def polinomio_derivada(x):\n",
    "    return 5*x**4 - 24*x**3 + 6*x**2 + 40*x - 27\n",
    "\n",
    "# Aplicación del método de Newton para varios valores iniciales\n",
    "x1 = newton(polinomio, x0=0, fprime=polinomio_derivada, tol=1.48e-08, maxiter=50)\n",
    "x2 = newton(polinomio, x0=1, fprime=polinomio_derivada, tol=1.48e-08, maxiter=50)\n",
    "x3 = newton(polinomio, x0=2, fprime=polinomio_derivada, tol=1.48e-08, maxiter=50)\n",
    "x4 = newton(polinomio, x0=3, fprime=polinomio_derivada, tol=1.48e-08, maxiter=50)\n",
    "x5 = newton(polinomio, x0=4, fprime=polinomio_derivada, tol=1.48e-08, maxiter=50)\n",
    "x6 = newton(polinomio, x0=5, fprime=polinomio_derivada, tol=1.48e-08, maxiter=50)\n",
    "\n",
    "print(\"Las raíces del método de Newton son:\")\n",
    "print(f'El valor de x1 es: {x1:6f}')\n",
    "print(f'El valor de x2 es: {x2:6f}')\n",
    "print(f'El valor de x3 es: {x3:6f}')\n",
    "print(f'El valor de x4 es: {x4:6f}')\n",
    "print(f'El valor de x5 es: {x5:6f}')\n",
    "print(f'El valor de x6 es: {x6:6f}')\n"
   ]
  }
 ],
 "metadata": {
  "kernelspec": {
   "display_name": "Python 3",
   "language": "python",
   "name": "python3"
  },
  "language_info": {
   "codemirror_mode": {
    "name": "ipython",
    "version": 3
   },
   "file_extension": ".py",
   "mimetype": "text/x-python",
   "name": "python",
   "nbconvert_exporter": "python",
   "pygments_lexer": "ipython3",
   "version": "3.11.0"
  }
 },
 "nbformat": 4,
 "nbformat_minor": 2
}
