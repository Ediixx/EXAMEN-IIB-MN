{
 "cells": [
  {
   "cell_type": "markdown",
   "metadata": {},
   "source": [
    "##### Ejercicio 2"
   ]
  },
  {
   "cell_type": "code",
   "execution_count": 25,
   "metadata": {},
   "outputs": [
    {
     "name": "stdout",
     "output_type": "stream",
     "text": [
      "Las raices del metodo de Newton son:\n",
      "El valor de x1 es:\n",
      "0.9991\n",
      "El valor de x2 es:\n",
      "1.0000\n",
      "El valor de x3 es:\n",
      "1.0010\n",
      "El valor de x4 es:\n",
      "1.0008\n",
      "El valor de x5 es:\n",
      "-2.0000\n",
      "El valor de x6 es:\n",
      "5.0000\n"
     ]
    }
   ],
   "source": [
    "import numpy as np\n",
    "import sympy as sp\n",
    "\n",
    "# Primero poner la ecuacion y la derivada para aplicarla luego a Newton\n",
    "x = sp.symbols('x')\n",
    "polinomio_general = x**5 - 6*x**4 + 2*x**3 + 20*x**2 - 27*x + 10\n",
    "polinomio_general_derivada = sp.diff(polinomio_general, x)\n",
    "\n",
    "# Convertir el polinomio y su derivada a funciones numéricas\n",
    "funcion_convertir = sp.lambdify(x, polinomio_general, 'numpy')\n",
    "funcion_derivada = sp.lambdify(x, polinomio_general_derivada, 'numpy')\n",
    "\n",
    "# Primer método: Newton\n",
    "def primer_metodo_newton(f, f_prime, x0, tol=1.48e-08, max_iter=50):\n",
    "    x = x0\n",
    "    for _ in range(max_iter):\n",
    "        fx = f(x)\n",
    "        fpx = f_prime(x)\n",
    "        if abs(fx) < tol:\n",
    "            return x\n",
    "        if fpx == 0:\n",
    "            return None\n",
    "        x = x - fx / fpx\n",
    "    return None\n",
    "\n",
    "x1 = primer_metodo_newton(funcion_convertir, funcion_derivada, 0)\n",
    "x2 = primer_metodo_newton(funcion_convertir, funcion_derivada, 1)\n",
    "x3 = primer_metodo_newton(funcion_convertir, funcion_derivada, 2)\n",
    "x4 = primer_metodo_newton(funcion_convertir, funcion_derivada, 3)\n",
    "x5 = primer_metodo_newton(funcion_convertir, funcion_derivada, 4)\n",
    "x6 = primer_metodo_newton(funcion_convertir, funcion_derivada, 5)\n",
    "\n",
    "print(\"Las raices del metodo de Newton son:\")\n",
    "print(f'El valor de x1 es:\\n{x1:.4f}')\n",
    "print(f'El valor de x2 es:\\n{x2:.4f}')\n",
    "print(f'El valor de x3 es:\\n{x3:.4f}')\n",
    "print(f'El valor de x4 es:\\n{x4:.4f}')\n",
    "print(f'El valor de x5 es:\\n{x5:.4f}')\n",
    "print(f'El valor de x6 es:\\n{x6:.4f}')"
   ]
  }
 ],
 "metadata": {
  "kernelspec": {
   "display_name": "Python 3",
   "language": "python",
   "name": "python3"
  },
  "language_info": {
   "codemirror_mode": {
    "name": "ipython",
    "version": 3
   },
   "file_extension": ".py",
   "mimetype": "text/x-python",
   "name": "python",
   "nbconvert_exporter": "python",
   "pygments_lexer": "ipython3",
   "version": "3.11.0"
  }
 },
 "nbformat": 4,
 "nbformat_minor": 2
}
